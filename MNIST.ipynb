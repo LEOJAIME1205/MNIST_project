{
  "nbformat": 4,
  "nbformat_minor": 0,
  "metadata": {
    "colab": {
      "provenance": []
    },
    "kernelspec": {
      "name": "python3",
      "display_name": "Python 3"
    },
    "language_info": {
      "name": "python"
    }
  },
  "cells": [
    {
      "cell_type": "markdown",
      "source": [
        "Imports\n"
      ],
      "metadata": {
        "id": "CDG87b5puH9x"
      }
    },
    {
      "cell_type": "code",
      "execution_count": 2,
      "metadata": {
        "id": "sh3lGUuQt-2e"
      },
      "outputs": [],
      "source": [
        "import numpy as np\n",
        "import pandas as pd\n",
        "import matplotlib.pyplot as plt"
      ]
    },
    {
      "cell_type": "markdown",
      "source": [
        "# Load data\n"
      ],
      "metadata": {
        "id": "G9Dc_27bwfoA"
      }
    },
    {
      "cell_type": "code",
      "source": [
        "df = pd.read_csv('/content/drive/MyDrive/Colab Notebooks/tutoriais TF/MNIST/train.csv')\n",
        "display(df)"
      ],
      "metadata": {
        "id": "DlsvcyAAucQz",
        "colab": {
          "base_uri": "https://localhost:8080/",
          "height": 443
        },
        "outputId": "133d7d0b-0a9a-455c-9197-a7c1c51e5b49"
      },
      "execution_count": 3,
      "outputs": [
        {
          "output_type": "display_data",
          "data": {
            "text/plain": [
              "       label  pixel0  pixel1  pixel2  pixel3  pixel4  pixel5  pixel6  pixel7  \\\n",
              "0          1       0       0       0       0       0       0       0       0   \n",
              "1          0       0       0       0       0       0       0       0       0   \n",
              "2          1       0       0       0       0       0       0       0       0   \n",
              "3          4       0       0       0       0       0       0       0       0   \n",
              "4          0       0       0       0       0       0       0       0       0   \n",
              "...      ...     ...     ...     ...     ...     ...     ...     ...     ...   \n",
              "41995      0       0       0       0       0       0       0       0       0   \n",
              "41996      1       0       0       0       0       0       0       0       0   \n",
              "41997      7       0       0       0       0       0       0       0       0   \n",
              "41998      6       0       0       0       0       0       0       0       0   \n",
              "41999      9       0       0       0       0       0       0       0       0   \n",
              "\n",
              "       pixel8  ...  pixel774  pixel775  pixel776  pixel777  pixel778  \\\n",
              "0           0  ...         0         0         0         0         0   \n",
              "1           0  ...         0         0         0         0         0   \n",
              "2           0  ...         0         0         0         0         0   \n",
              "3           0  ...         0         0         0         0         0   \n",
              "4           0  ...         0         0         0         0         0   \n",
              "...       ...  ...       ...       ...       ...       ...       ...   \n",
              "41995       0  ...         0         0         0         0         0   \n",
              "41996       0  ...         0         0         0         0         0   \n",
              "41997       0  ...         0         0         0         0         0   \n",
              "41998       0  ...         0         0         0         0         0   \n",
              "41999       0  ...         0         0         0         0         0   \n",
              "\n",
              "       pixel779  pixel780  pixel781  pixel782  pixel783  \n",
              "0             0         0         0         0         0  \n",
              "1             0         0         0         0         0  \n",
              "2             0         0         0         0         0  \n",
              "3             0         0         0         0         0  \n",
              "4             0         0         0         0         0  \n",
              "...         ...       ...       ...       ...       ...  \n",
              "41995         0         0         0         0         0  \n",
              "41996         0         0         0         0         0  \n",
              "41997         0         0         0         0         0  \n",
              "41998         0         0         0         0         0  \n",
              "41999         0         0         0         0         0  \n",
              "\n",
              "[42000 rows x 785 columns]"
            ],
            "text/html": [
              "\n",
              "  <div id=\"df-0ee97849-0c02-4400-a627-04e51f8194a7\" class=\"colab-df-container\">\n",
              "    <div>\n",
              "<style scoped>\n",
              "    .dataframe tbody tr th:only-of-type {\n",
              "        vertical-align: middle;\n",
              "    }\n",
              "\n",
              "    .dataframe tbody tr th {\n",
              "        vertical-align: top;\n",
              "    }\n",
              "\n",
              "    .dataframe thead th {\n",
              "        text-align: right;\n",
              "    }\n",
              "</style>\n",
              "<table border=\"1\" class=\"dataframe\">\n",
              "  <thead>\n",
              "    <tr style=\"text-align: right;\">\n",
              "      <th></th>\n",
              "      <th>label</th>\n",
              "      <th>pixel0</th>\n",
              "      <th>pixel1</th>\n",
              "      <th>pixel2</th>\n",
              "      <th>pixel3</th>\n",
              "      <th>pixel4</th>\n",
              "      <th>pixel5</th>\n",
              "      <th>pixel6</th>\n",
              "      <th>pixel7</th>\n",
              "      <th>pixel8</th>\n",
              "      <th>...</th>\n",
              "      <th>pixel774</th>\n",
              "      <th>pixel775</th>\n",
              "      <th>pixel776</th>\n",
              "      <th>pixel777</th>\n",
              "      <th>pixel778</th>\n",
              "      <th>pixel779</th>\n",
              "      <th>pixel780</th>\n",
              "      <th>pixel781</th>\n",
              "      <th>pixel782</th>\n",
              "      <th>pixel783</th>\n",
              "    </tr>\n",
              "  </thead>\n",
              "  <tbody>\n",
              "    <tr>\n",
              "      <th>0</th>\n",
              "      <td>1</td>\n",
              "      <td>0</td>\n",
              "      <td>0</td>\n",
              "      <td>0</td>\n",
              "      <td>0</td>\n",
              "      <td>0</td>\n",
              "      <td>0</td>\n",
              "      <td>0</td>\n",
              "      <td>0</td>\n",
              "      <td>0</td>\n",
              "      <td>...</td>\n",
              "      <td>0</td>\n",
              "      <td>0</td>\n",
              "      <td>0</td>\n",
              "      <td>0</td>\n",
              "      <td>0</td>\n",
              "      <td>0</td>\n",
              "      <td>0</td>\n",
              "      <td>0</td>\n",
              "      <td>0</td>\n",
              "      <td>0</td>\n",
              "    </tr>\n",
              "    <tr>\n",
              "      <th>1</th>\n",
              "      <td>0</td>\n",
              "      <td>0</td>\n",
              "      <td>0</td>\n",
              "      <td>0</td>\n",
              "      <td>0</td>\n",
              "      <td>0</td>\n",
              "      <td>0</td>\n",
              "      <td>0</td>\n",
              "      <td>0</td>\n",
              "      <td>0</td>\n",
              "      <td>...</td>\n",
              "      <td>0</td>\n",
              "      <td>0</td>\n",
              "      <td>0</td>\n",
              "      <td>0</td>\n",
              "      <td>0</td>\n",
              "      <td>0</td>\n",
              "      <td>0</td>\n",
              "      <td>0</td>\n",
              "      <td>0</td>\n",
              "      <td>0</td>\n",
              "    </tr>\n",
              "    <tr>\n",
              "      <th>2</th>\n",
              "      <td>1</td>\n",
              "      <td>0</td>\n",
              "      <td>0</td>\n",
              "      <td>0</td>\n",
              "      <td>0</td>\n",
              "      <td>0</td>\n",
              "      <td>0</td>\n",
              "      <td>0</td>\n",
              "      <td>0</td>\n",
              "      <td>0</td>\n",
              "      <td>...</td>\n",
              "      <td>0</td>\n",
              "      <td>0</td>\n",
              "      <td>0</td>\n",
              "      <td>0</td>\n",
              "      <td>0</td>\n",
              "      <td>0</td>\n",
              "      <td>0</td>\n",
              "      <td>0</td>\n",
              "      <td>0</td>\n",
              "      <td>0</td>\n",
              "    </tr>\n",
              "    <tr>\n",
              "      <th>3</th>\n",
              "      <td>4</td>\n",
              "      <td>0</td>\n",
              "      <td>0</td>\n",
              "      <td>0</td>\n",
              "      <td>0</td>\n",
              "      <td>0</td>\n",
              "      <td>0</td>\n",
              "      <td>0</td>\n",
              "      <td>0</td>\n",
              "      <td>0</td>\n",
              "      <td>...</td>\n",
              "      <td>0</td>\n",
              "      <td>0</td>\n",
              "      <td>0</td>\n",
              "      <td>0</td>\n",
              "      <td>0</td>\n",
              "      <td>0</td>\n",
              "      <td>0</td>\n",
              "      <td>0</td>\n",
              "      <td>0</td>\n",
              "      <td>0</td>\n",
              "    </tr>\n",
              "    <tr>\n",
              "      <th>4</th>\n",
              "      <td>0</td>\n",
              "      <td>0</td>\n",
              "      <td>0</td>\n",
              "      <td>0</td>\n",
              "      <td>0</td>\n",
              "      <td>0</td>\n",
              "      <td>0</td>\n",
              "      <td>0</td>\n",
              "      <td>0</td>\n",
              "      <td>0</td>\n",
              "      <td>...</td>\n",
              "      <td>0</td>\n",
              "      <td>0</td>\n",
              "      <td>0</td>\n",
              "      <td>0</td>\n",
              "      <td>0</td>\n",
              "      <td>0</td>\n",
              "      <td>0</td>\n",
              "      <td>0</td>\n",
              "      <td>0</td>\n",
              "      <td>0</td>\n",
              "    </tr>\n",
              "    <tr>\n",
              "      <th>...</th>\n",
              "      <td>...</td>\n",
              "      <td>...</td>\n",
              "      <td>...</td>\n",
              "      <td>...</td>\n",
              "      <td>...</td>\n",
              "      <td>...</td>\n",
              "      <td>...</td>\n",
              "      <td>...</td>\n",
              "      <td>...</td>\n",
              "      <td>...</td>\n",
              "      <td>...</td>\n",
              "      <td>...</td>\n",
              "      <td>...</td>\n",
              "      <td>...</td>\n",
              "      <td>...</td>\n",
              "      <td>...</td>\n",
              "      <td>...</td>\n",
              "      <td>...</td>\n",
              "      <td>...</td>\n",
              "      <td>...</td>\n",
              "      <td>...</td>\n",
              "    </tr>\n",
              "    <tr>\n",
              "      <th>41995</th>\n",
              "      <td>0</td>\n",
              "      <td>0</td>\n",
              "      <td>0</td>\n",
              "      <td>0</td>\n",
              "      <td>0</td>\n",
              "      <td>0</td>\n",
              "      <td>0</td>\n",
              "      <td>0</td>\n",
              "      <td>0</td>\n",
              "      <td>0</td>\n",
              "      <td>...</td>\n",
              "      <td>0</td>\n",
              "      <td>0</td>\n",
              "      <td>0</td>\n",
              "      <td>0</td>\n",
              "      <td>0</td>\n",
              "      <td>0</td>\n",
              "      <td>0</td>\n",
              "      <td>0</td>\n",
              "      <td>0</td>\n",
              "      <td>0</td>\n",
              "    </tr>\n",
              "    <tr>\n",
              "      <th>41996</th>\n",
              "      <td>1</td>\n",
              "      <td>0</td>\n",
              "      <td>0</td>\n",
              "      <td>0</td>\n",
              "      <td>0</td>\n",
              "      <td>0</td>\n",
              "      <td>0</td>\n",
              "      <td>0</td>\n",
              "      <td>0</td>\n",
              "      <td>0</td>\n",
              "      <td>...</td>\n",
              "      <td>0</td>\n",
              "      <td>0</td>\n",
              "      <td>0</td>\n",
              "      <td>0</td>\n",
              "      <td>0</td>\n",
              "      <td>0</td>\n",
              "      <td>0</td>\n",
              "      <td>0</td>\n",
              "      <td>0</td>\n",
              "      <td>0</td>\n",
              "    </tr>\n",
              "    <tr>\n",
              "      <th>41997</th>\n",
              "      <td>7</td>\n",
              "      <td>0</td>\n",
              "      <td>0</td>\n",
              "      <td>0</td>\n",
              "      <td>0</td>\n",
              "      <td>0</td>\n",
              "      <td>0</td>\n",
              "      <td>0</td>\n",
              "      <td>0</td>\n",
              "      <td>0</td>\n",
              "      <td>...</td>\n",
              "      <td>0</td>\n",
              "      <td>0</td>\n",
              "      <td>0</td>\n",
              "      <td>0</td>\n",
              "      <td>0</td>\n",
              "      <td>0</td>\n",
              "      <td>0</td>\n",
              "      <td>0</td>\n",
              "      <td>0</td>\n",
              "      <td>0</td>\n",
              "    </tr>\n",
              "    <tr>\n",
              "      <th>41998</th>\n",
              "      <td>6</td>\n",
              "      <td>0</td>\n",
              "      <td>0</td>\n",
              "      <td>0</td>\n",
              "      <td>0</td>\n",
              "      <td>0</td>\n",
              "      <td>0</td>\n",
              "      <td>0</td>\n",
              "      <td>0</td>\n",
              "      <td>0</td>\n",
              "      <td>...</td>\n",
              "      <td>0</td>\n",
              "      <td>0</td>\n",
              "      <td>0</td>\n",
              "      <td>0</td>\n",
              "      <td>0</td>\n",
              "      <td>0</td>\n",
              "      <td>0</td>\n",
              "      <td>0</td>\n",
              "      <td>0</td>\n",
              "      <td>0</td>\n",
              "    </tr>\n",
              "    <tr>\n",
              "      <th>41999</th>\n",
              "      <td>9</td>\n",
              "      <td>0</td>\n",
              "      <td>0</td>\n",
              "      <td>0</td>\n",
              "      <td>0</td>\n",
              "      <td>0</td>\n",
              "      <td>0</td>\n",
              "      <td>0</td>\n",
              "      <td>0</td>\n",
              "      <td>0</td>\n",
              "      <td>...</td>\n",
              "      <td>0</td>\n",
              "      <td>0</td>\n",
              "      <td>0</td>\n",
              "      <td>0</td>\n",
              "      <td>0</td>\n",
              "      <td>0</td>\n",
              "      <td>0</td>\n",
              "      <td>0</td>\n",
              "      <td>0</td>\n",
              "      <td>0</td>\n",
              "    </tr>\n",
              "  </tbody>\n",
              "</table>\n",
              "<p>42000 rows × 785 columns</p>\n",
              "</div>\n",
              "    <div class=\"colab-df-buttons\">\n",
              "\n",
              "  <div class=\"colab-df-container\">\n",
              "    <button class=\"colab-df-convert\" onclick=\"convertToInteractive('df-0ee97849-0c02-4400-a627-04e51f8194a7')\"\n",
              "            title=\"Convert this dataframe to an interactive table.\"\n",
              "            style=\"display:none;\">\n",
              "\n",
              "  <svg xmlns=\"http://www.w3.org/2000/svg\" height=\"24px\" viewBox=\"0 -960 960 960\">\n",
              "    <path d=\"M120-120v-720h720v720H120Zm60-500h600v-160H180v160Zm220 220h160v-160H400v160Zm0 220h160v-160H400v160ZM180-400h160v-160H180v160Zm440 0h160v-160H620v160ZM180-180h160v-160H180v160Zm440 0h160v-160H620v160Z\"/>\n",
              "  </svg>\n",
              "    </button>\n",
              "\n",
              "  <style>\n",
              "    .colab-df-container {\n",
              "      display:flex;\n",
              "      gap: 12px;\n",
              "    }\n",
              "\n",
              "    .colab-df-convert {\n",
              "      background-color: #E8F0FE;\n",
              "      border: none;\n",
              "      border-radius: 50%;\n",
              "      cursor: pointer;\n",
              "      display: none;\n",
              "      fill: #1967D2;\n",
              "      height: 32px;\n",
              "      padding: 0 0 0 0;\n",
              "      width: 32px;\n",
              "    }\n",
              "\n",
              "    .colab-df-convert:hover {\n",
              "      background-color: #E2EBFA;\n",
              "      box-shadow: 0px 1px 2px rgba(60, 64, 67, 0.3), 0px 1px 3px 1px rgba(60, 64, 67, 0.15);\n",
              "      fill: #174EA6;\n",
              "    }\n",
              "\n",
              "    .colab-df-buttons div {\n",
              "      margin-bottom: 4px;\n",
              "    }\n",
              "\n",
              "    [theme=dark] .colab-df-convert {\n",
              "      background-color: #3B4455;\n",
              "      fill: #D2E3FC;\n",
              "    }\n",
              "\n",
              "    [theme=dark] .colab-df-convert:hover {\n",
              "      background-color: #434B5C;\n",
              "      box-shadow: 0px 1px 3px 1px rgba(0, 0, 0, 0.15);\n",
              "      filter: drop-shadow(0px 1px 2px rgba(0, 0, 0, 0.3));\n",
              "      fill: #FFFFFF;\n",
              "    }\n",
              "  </style>\n",
              "\n",
              "    <script>\n",
              "      const buttonEl =\n",
              "        document.querySelector('#df-0ee97849-0c02-4400-a627-04e51f8194a7 button.colab-df-convert');\n",
              "      buttonEl.style.display =\n",
              "        google.colab.kernel.accessAllowed ? 'block' : 'none';\n",
              "\n",
              "      async function convertToInteractive(key) {\n",
              "        const element = document.querySelector('#df-0ee97849-0c02-4400-a627-04e51f8194a7');\n",
              "        const dataTable =\n",
              "          await google.colab.kernel.invokeFunction('convertToInteractive',\n",
              "                                                    [key], {});\n",
              "        if (!dataTable) return;\n",
              "\n",
              "        const docLinkHtml = 'Like what you see? Visit the ' +\n",
              "          '<a target=\"_blank\" href=https://colab.research.google.com/notebooks/data_table.ipynb>data table notebook</a>'\n",
              "          + ' to learn more about interactive tables.';\n",
              "        element.innerHTML = '';\n",
              "        dataTable['output_type'] = 'display_data';\n",
              "        await google.colab.output.renderOutput(dataTable, element);\n",
              "        const docLink = document.createElement('div');\n",
              "        docLink.innerHTML = docLinkHtml;\n",
              "        element.appendChild(docLink);\n",
              "      }\n",
              "    </script>\n",
              "  </div>\n",
              "\n",
              "\n",
              "<div id=\"df-1d3a26ce-75ef-4fdf-bf30-aa37e56e38ab\">\n",
              "  <button class=\"colab-df-quickchart\" onclick=\"quickchart('df-1d3a26ce-75ef-4fdf-bf30-aa37e56e38ab')\"\n",
              "            title=\"Suggest charts\"\n",
              "            style=\"display:none;\">\n",
              "\n",
              "<svg xmlns=\"http://www.w3.org/2000/svg\" height=\"24px\"viewBox=\"0 0 24 24\"\n",
              "     width=\"24px\">\n",
              "    <g>\n",
              "        <path d=\"M19 3H5c-1.1 0-2 .9-2 2v14c0 1.1.9 2 2 2h14c1.1 0 2-.9 2-2V5c0-1.1-.9-2-2-2zM9 17H7v-7h2v7zm4 0h-2V7h2v10zm4 0h-2v-4h2v4z\"/>\n",
              "    </g>\n",
              "</svg>\n",
              "  </button>\n",
              "\n",
              "<style>\n",
              "  .colab-df-quickchart {\n",
              "      --bg-color: #E8F0FE;\n",
              "      --fill-color: #1967D2;\n",
              "      --hover-bg-color: #E2EBFA;\n",
              "      --hover-fill-color: #174EA6;\n",
              "      --disabled-fill-color: #AAA;\n",
              "      --disabled-bg-color: #DDD;\n",
              "  }\n",
              "\n",
              "  [theme=dark] .colab-df-quickchart {\n",
              "      --bg-color: #3B4455;\n",
              "      --fill-color: #D2E3FC;\n",
              "      --hover-bg-color: #434B5C;\n",
              "      --hover-fill-color: #FFFFFF;\n",
              "      --disabled-bg-color: #3B4455;\n",
              "      --disabled-fill-color: #666;\n",
              "  }\n",
              "\n",
              "  .colab-df-quickchart {\n",
              "    background-color: var(--bg-color);\n",
              "    border: none;\n",
              "    border-radius: 50%;\n",
              "    cursor: pointer;\n",
              "    display: none;\n",
              "    fill: var(--fill-color);\n",
              "    height: 32px;\n",
              "    padding: 0;\n",
              "    width: 32px;\n",
              "  }\n",
              "\n",
              "  .colab-df-quickchart:hover {\n",
              "    background-color: var(--hover-bg-color);\n",
              "    box-shadow: 0 1px 2px rgba(60, 64, 67, 0.3), 0 1px 3px 1px rgba(60, 64, 67, 0.15);\n",
              "    fill: var(--button-hover-fill-color);\n",
              "  }\n",
              "\n",
              "  .colab-df-quickchart-complete:disabled,\n",
              "  .colab-df-quickchart-complete:disabled:hover {\n",
              "    background-color: var(--disabled-bg-color);\n",
              "    fill: var(--disabled-fill-color);\n",
              "    box-shadow: none;\n",
              "  }\n",
              "\n",
              "  .colab-df-spinner {\n",
              "    border: 2px solid var(--fill-color);\n",
              "    border-color: transparent;\n",
              "    border-bottom-color: var(--fill-color);\n",
              "    animation:\n",
              "      spin 1s steps(1) infinite;\n",
              "  }\n",
              "\n",
              "  @keyframes spin {\n",
              "    0% {\n",
              "      border-color: transparent;\n",
              "      border-bottom-color: var(--fill-color);\n",
              "      border-left-color: var(--fill-color);\n",
              "    }\n",
              "    20% {\n",
              "      border-color: transparent;\n",
              "      border-left-color: var(--fill-color);\n",
              "      border-top-color: var(--fill-color);\n",
              "    }\n",
              "    30% {\n",
              "      border-color: transparent;\n",
              "      border-left-color: var(--fill-color);\n",
              "      border-top-color: var(--fill-color);\n",
              "      border-right-color: var(--fill-color);\n",
              "    }\n",
              "    40% {\n",
              "      border-color: transparent;\n",
              "      border-right-color: var(--fill-color);\n",
              "      border-top-color: var(--fill-color);\n",
              "    }\n",
              "    60% {\n",
              "      border-color: transparent;\n",
              "      border-right-color: var(--fill-color);\n",
              "    }\n",
              "    80% {\n",
              "      border-color: transparent;\n",
              "      border-right-color: var(--fill-color);\n",
              "      border-bottom-color: var(--fill-color);\n",
              "    }\n",
              "    90% {\n",
              "      border-color: transparent;\n",
              "      border-bottom-color: var(--fill-color);\n",
              "    }\n",
              "  }\n",
              "</style>\n",
              "\n",
              "  <script>\n",
              "    async function quickchart(key) {\n",
              "      const quickchartButtonEl =\n",
              "        document.querySelector('#' + key + ' button');\n",
              "      quickchartButtonEl.disabled = true;  // To prevent multiple clicks.\n",
              "      quickchartButtonEl.classList.add('colab-df-spinner');\n",
              "      try {\n",
              "        const charts = await google.colab.kernel.invokeFunction(\n",
              "            'suggestCharts', [key], {});\n",
              "      } catch (error) {\n",
              "        console.error('Error during call to suggestCharts:', error);\n",
              "      }\n",
              "      quickchartButtonEl.classList.remove('colab-df-spinner');\n",
              "      quickchartButtonEl.classList.add('colab-df-quickchart-complete');\n",
              "    }\n",
              "    (() => {\n",
              "      let quickchartButtonEl =\n",
              "        document.querySelector('#df-1d3a26ce-75ef-4fdf-bf30-aa37e56e38ab button');\n",
              "      quickchartButtonEl.style.display =\n",
              "        google.colab.kernel.accessAllowed ? 'block' : 'none';\n",
              "    })();\n",
              "  </script>\n",
              "</div>\n",
              "\n",
              "  <div id=\"id_10d73ef0-74ff-42c6-8f1e-7588f8dca06f\">\n",
              "    <style>\n",
              "      .colab-df-generate {\n",
              "        background-color: #E8F0FE;\n",
              "        border: none;\n",
              "        border-radius: 50%;\n",
              "        cursor: pointer;\n",
              "        display: none;\n",
              "        fill: #1967D2;\n",
              "        height: 32px;\n",
              "        padding: 0 0 0 0;\n",
              "        width: 32px;\n",
              "      }\n",
              "\n",
              "      .colab-df-generate:hover {\n",
              "        background-color: #E2EBFA;\n",
              "        box-shadow: 0px 1px 2px rgba(60, 64, 67, 0.3), 0px 1px 3px 1px rgba(60, 64, 67, 0.15);\n",
              "        fill: #174EA6;\n",
              "      }\n",
              "\n",
              "      [theme=dark] .colab-df-generate {\n",
              "        background-color: #3B4455;\n",
              "        fill: #D2E3FC;\n",
              "      }\n",
              "\n",
              "      [theme=dark] .colab-df-generate:hover {\n",
              "        background-color: #434B5C;\n",
              "        box-shadow: 0px 1px 3px 1px rgba(0, 0, 0, 0.15);\n",
              "        filter: drop-shadow(0px 1px 2px rgba(0, 0, 0, 0.3));\n",
              "        fill: #FFFFFF;\n",
              "      }\n",
              "    </style>\n",
              "    <button class=\"colab-df-generate\" onclick=\"generateWithVariable('df')\"\n",
              "            title=\"Generate code using this dataframe.\"\n",
              "            style=\"display:none;\">\n",
              "\n",
              "  <svg xmlns=\"http://www.w3.org/2000/svg\" height=\"24px\"viewBox=\"0 0 24 24\"\n",
              "       width=\"24px\">\n",
              "    <path d=\"M7,19H8.4L18.45,9,17,7.55,7,17.6ZM5,21V16.75L18.45,3.32a2,2,0,0,1,2.83,0l1.4,1.43a1.91,1.91,0,0,1,.58,1.4,1.91,1.91,0,0,1-.58,1.4L9.25,21ZM18.45,9,17,7.55Zm-12,3A5.31,5.31,0,0,0,4.9,8.1,5.31,5.31,0,0,0,1,6.5,5.31,5.31,0,0,0,4.9,4.9,5.31,5.31,0,0,0,6.5,1,5.31,5.31,0,0,0,8.1,4.9,5.31,5.31,0,0,0,12,6.5,5.46,5.46,0,0,0,6.5,12Z\"/>\n",
              "  </svg>\n",
              "    </button>\n",
              "    <script>\n",
              "      (() => {\n",
              "      const buttonEl =\n",
              "        document.querySelector('#id_10d73ef0-74ff-42c6-8f1e-7588f8dca06f button.colab-df-generate');\n",
              "      buttonEl.style.display =\n",
              "        google.colab.kernel.accessAllowed ? 'block' : 'none';\n",
              "\n",
              "      buttonEl.onclick = () => {\n",
              "        google.colab.notebook.generateWithVariable('df');\n",
              "      }\n",
              "      })();\n",
              "    </script>\n",
              "  </div>\n",
              "\n",
              "    </div>\n",
              "  </div>\n"
            ],
            "application/vnd.google.colaboratory.intrinsic+json": {
              "type": "dataframe",
              "variable_name": "df"
            }
          },
          "metadata": {}
        }
      ]
    },
    {
      "cell_type": "markdown",
      "source": [
        "vectorization (organizing data into matrices and vectors)"
      ],
      "metadata": {
        "id": "n-PkKNAUxE16"
      }
    },
    {
      "cell_type": "code",
      "source": [
        "data = np.array(df)\n",
        "m, n = data.shape\n",
        "np.random.shuffle(data)\n",
        "\n",
        "data_dev = data[0:1000].T # matrix 785 X 1000\n",
        "print(data_dev.shape)\n",
        "Y_dev = data_dev[0] # the labels with the corrects answers\n",
        "X_dev = data_dev[1:n]\n",
        "X_dev = X_dev / 255. # Normalization\n",
        "\n",
        "data_train = data[1000:m].T\n",
        "print(data_train.shape)\n",
        "Y_train = data_train[0] # the labels with the corrects answers\n",
        "X_train = data_train[1:n]\n",
        "X_train = X_train / 255. # Normalization\n",
        "_ , m_train = X_train.shape"
      ],
      "metadata": {
        "colab": {
          "base_uri": "https://localhost:8080/"
        },
        "id": "L8k3LA1TwwN3",
        "outputId": "f723aee3-3766-4721-bb4e-18cfd67a8fcb"
      },
      "execution_count": 4,
      "outputs": [
        {
          "output_type": "stream",
          "name": "stdout",
          "text": [
            "(785, 1000)\n",
            "(785, 41000)\n"
          ]
        }
      ]
    },
    {
      "cell_type": "markdown",
      "source": [
        "# neural network implementation"
      ],
      "metadata": {
        "id": "Zw-VX_H12o8m"
      }
    },
    {
      "cell_type": "code",
      "source": [
        "# initializing our parameters to random numbers\n",
        "def init_params():\n",
        "  W1 = np.random.rand(10, 784) - 0.5\n",
        "  b1 = np.random.rand(10, 1) - 0.5\n",
        "  W2 = np.random.rand(10, 10) - 0.5\n",
        "  b2 = np.random.rand(10, 1) - 0.5\n",
        "  return W1, b1, W2, b2\n",
        "\n",
        "# hidden layer activation function\n",
        "def ReLU(Z):\n",
        "  return np.maximum(Z, 0)\n",
        "\n",
        "# output layer activation function\n",
        "def softmax(Z):\n",
        "  A = np.exp(Z) / sum(np.exp(Z))\n",
        "  return A\n",
        "\n",
        "\n",
        "\n",
        "\n"
      ],
      "metadata": {
        "id": "yYE3CEoCzGkY"
      },
      "execution_count": 5,
      "outputs": []
    },
    {
      "cell_type": "markdown",
      "source": [
        "Foward Propagation"
      ],
      "metadata": {
        "id": "CCHjLXiObLD5"
      }
    },
    {
      "cell_type": "markdown",
      "source": [
        "$$Z^{[1]} = W^{[1]} X + b^{[1]}$$\n",
        "$$A^{[1]} = g^{[1]}(Z^{[1]})$$\n",
        "$$Z^{[2]} = W^{[2]} A^{[1]} + b^{[2]}$$\n",
        "$$A^{[2]} = g^{[2]}(Z^{[2]})$$\n"
      ],
      "metadata": {
        "id": "8bINQV0CbQ6Q"
      }
    },
    {
      "cell_type": "code",
      "source": [
        "def forward_prop(W1, b1, W2, b2, X):\n",
        "  Z1 = W1.dot(X) + b1\n",
        "  A1 = ReLU(Z1)\n",
        "  Z2 = W2.dot(A1) + b2\n",
        "  A2 = softmax(Z2)\n",
        "\n",
        "  return Z1, A1, Z2, A2"
      ],
      "metadata": {
        "id": "9gGgRI5mbPk4"
      },
      "execution_count": 6,
      "outputs": []
    },
    {
      "cell_type": "code",
      "source": [
        "# the explanation for this part of the code is in the file: One-hot encoding function explanation\n",
        "\n",
        "def one_hot(Y):\n",
        "  one_hot_Y = np.zeros((Y.size, Y.max() + 1))\n",
        "  one_hot_Y[np.arange(Y.size), Y] = 1\n",
        "  one_hot_Y = one_hot_Y.T\n",
        "  return one_hot_Y"
      ],
      "metadata": {
        "id": "2Y_q6xdRc3tH"
      },
      "execution_count": 7,
      "outputs": []
    },
    {
      "cell_type": "markdown",
      "source": [
        "Backward Propagation"
      ],
      "metadata": {
        "id": "4uQOToEghL34"
      }
    },
    {
      "cell_type": "markdown",
      "source": [
        "$$\n",
        "dZ^{[L]} = A^{[L]} - Y\n",
        "$$\n",
        "$$\n",
        "dW^{[L]} = \\frac{1}{m} dZ^{[L]} {A^{[L-1]}}^T\n",
        "$$\n",
        "$$\n",
        "db^{[L]} = \\frac{1}{m} \\sum(dZ^{[L]}, \\text{ axis = 1, keepdims = True})\n",
        "$$\n",
        "$$\n",
        "dZ^{[L-1]} = {W^{[L]}}^T dZ^{[L]} \\odot g'^{[L-1]}(Z^{[L-1]})\n",
        "$$\n",
        "\n",
        "(Note that \\( \\odot \\) denotes element-wise multiplication)\n",
        "\n",
        "$$\n",
        "dZ^{[1]} = {W^{[2]}}^T dZ^{[2]} \\odot g'^{[1]}(Z^{[1]})\n",
        "$$\n",
        "$$\n",
        "dW^{[1]} = \\frac{1}{m} dZ^{[1]} {A^{[0]}}^T\n",
        "$$\n",
        "$$\n",
        "db^{[1]} = \\frac{1}{m} \\sum(dZ^{[1]}, \\text{ axis = 1, keepdims = True})\n",
        "$$\n",
        "\n",
        "(Note that \\(A^{[0]}^T\\) is another way to denote the input features, which is \\(X\\))\n"
      ],
      "metadata": {
        "id": "_Sww_PS1kX7s"
      }
    },
    {
      "cell_type": "code",
      "source": [
        "def deriv_ReLU(Z):\n",
        "  return Z > 0"
      ],
      "metadata": {
        "id": "FThX6mo9hW-A"
      },
      "execution_count": 8,
      "outputs": []
    },
    {
      "cell_type": "code",
      "source": [
        "def back_prop(Z1, A1, Z2, A2, W1, W2, X, Y):\n",
        "  m = Y.size\n",
        "  one_hot_Y = one_hot(Y)\n",
        "  dZ2 = A2 - one_hot_Y\n",
        "  dW2 = 1/m * dZ2.dot(A1.T)\n",
        "  db2 = 1/m * np.sum(dZ2, axis=1, keepdims=True)\n",
        "\n",
        "  dZ1 = W2.T.dot(dZ2) * deriv_ReLU(Z1)\n",
        "  dW1 = 1/m * dZ1.dot(X.T)\n",
        "  db1 = 1/m * np.sum(dZ1, axis=1, keepdims=True)\n",
        "\n",
        "  return dW1, db1, dW2, db2\n",
        ""
      ],
      "metadata": {
        "id": "E62TMH3nmXUa"
      },
      "execution_count": 9,
      "outputs": []
    },
    {
      "cell_type": "markdown",
      "source": [
        "Updating parameters"
      ],
      "metadata": {
        "id": "59Twf4TI7fKS"
      }
    },
    {
      "cell_type": "markdown",
      "source": [
        "$$\n",
        "W^{[1]} = W^{[1]} - \\alpha \\cdot dW^{[1]}\n",
        "$$\n",
        "$$\n",
        "b^{[1]} = b^{[1]} - \\alpha \\cdot db^{[1]}\n",
        "$$\n",
        "$$\n",
        "W^{[2]} = W^{[2]} - \\alpha \\cdot dW^{[2]}\n",
        "$$\n",
        "$$\n",
        "b^{[2]} = b^{[2]} - \\alpha \\cdot db^{[2]}\n",
        "$$\n"
      ],
      "metadata": {
        "id": "RJLOFOE87wD3"
      }
    },
    {
      "cell_type": "code",
      "source": [
        "def update_params(W1, b1, W2, b2, dW1, db1, dW2, db2, alpha):\n",
        "  W1 = W1 - alpha * dW1\n",
        "  b1 = b1 - alpha * db1\n",
        "  W2 = W2 - alpha * dW2\n",
        "  b2 = b2 - alpha * db2\n",
        "\n",
        "  return W1,b1,W2,b2"
      ],
      "metadata": {
        "id": "nOdZNippmmOb"
      },
      "execution_count": 10,
      "outputs": []
    },
    {
      "cell_type": "markdown",
      "source": [
        "Accuracy and implementation of gradient descent"
      ],
      "metadata": {
        "id": "hmvZ2gl_9kwb"
      }
    },
    {
      "cell_type": "code",
      "source": [
        "def get_predictions(A2):\n",
        "  return np.argmax(A2, 0)\n",
        "\n",
        "def get_accuracy(predictions, Y):\n",
        "  print(predictions, Y)\n",
        "  return np.sum(predictions == Y) / Y.size\n",
        "\n",
        "def gradient_descent(X, Y, alpha, iterations):\n",
        "  W1, b1, W2, b2 = init_params()\n",
        "  for i in range(iterations):\n",
        "    Z1, A1, Z2, A2 = forward_prop(W1, b1, W2, b2, X)\n",
        "    dW1, db1, dW2, db2 = back_prop(Z1, A1, Z2, A2, W1, W2, X, Y)\n",
        "    W1, b1, W2, b2 = update_params(W1, b1, W2, b2, dW1, db1, dW2, db2, alpha)\n",
        "    if i % 100 == 0:\n",
        "      print(\"Iterantion: \", i)\n",
        "      predictions = get_predictions(A2)\n",
        "      print(\"Accuracy: \", get_accuracy(predictions, Y))\n",
        "\n",
        "  return W1, b1, W2, b2"
      ],
      "metadata": {
        "id": "iWGz8H7A9SL9"
      },
      "execution_count": 11,
      "outputs": []
    },
    {
      "cell_type": "markdown",
      "source": [
        "Training the model"
      ],
      "metadata": {
        "id": "t5zn2isP0zWc"
      }
    },
    {
      "cell_type": "code",
      "source": [
        "W1, b1, W2, b2 = gradient_descent(X_train, Y_train, 0.10, 501)"
      ],
      "metadata": {
        "colab": {
          "base_uri": "https://localhost:8080/"
        },
        "id": "eXM5MA_J97GQ",
        "outputId": "395bf85e-46a5-41d3-cf05-43c264d71221"
      },
      "execution_count": 12,
      "outputs": [
        {
          "output_type": "stream",
          "name": "stdout",
          "text": [
            "Iterantion:  0\n",
            "[8 8 8 ... 0 0 8] [5 8 3 ... 3 4 2]\n",
            "Accuracy:  0.1335609756097561\n",
            "Iterantion:  100\n",
            "[7 3 3 ... 7 6 0] [5 8 3 ... 3 4 2]\n",
            "Accuracy:  0.6132439024390244\n",
            "Iterantion:  200\n",
            "[7 3 3 ... 3 4 2] [5 8 3 ... 3 4 2]\n",
            "Accuracy:  0.7555121951219512\n",
            "Iterantion:  300\n",
            "[7 8 3 ... 3 4 2] [5 8 3 ... 3 4 2]\n",
            "Accuracy:  0.8054878048780488\n",
            "Iterantion:  400\n",
            "[7 8 3 ... 3 4 2] [5 8 3 ... 3 4 2]\n",
            "Accuracy:  0.8315609756097561\n",
            "Iterantion:  500\n",
            "[7 8 3 ... 3 4 2] [5 8 3 ... 3 4 2]\n",
            "Accuracy:  0.8479024390243902\n"
          ]
        }
      ]
    },
    {
      "cell_type": "markdown",
      "source": [
        "Tests"
      ],
      "metadata": {
        "id": "vuXvn-xtA7qm"
      }
    },
    {
      "cell_type": "code",
      "source": [
        "def make_predictions(X, W1, b1, W2, b2):\n",
        "  _, _, _, A2 = forward_prop(W1, b1, W2, b2, X)\n",
        "  predictions = get_predictions(A2)\n",
        "  return predictions\n",
        "\n",
        "def test_prediction(index, W1, b1, W2, b2):\n",
        "  current_image = X_train[:, index, None]\n",
        "  prediction = make_predictions(X_train[:, index, None], W1, b1, W2, b2)\n",
        "  label = Y_train[index]\n",
        "  print(\"\\nPrediction: \", prediction)\n",
        "  print(\"\\nLabel: \", label)\n",
        "\n",
        "  current_image = current_image.reshape((28, 28)) * 255\n",
        "  plt.gray()\n",
        "  plt.imshow(current_image, interpolation='nearest')\n",
        "  plt.show()"
      ],
      "metadata": {
        "id": "nWRzgU9hA1aO"
      },
      "execution_count": 13,
      "outputs": []
    },
    {
      "cell_type": "code",
      "source": [
        "test_prediction(1, W1, b1, W2, b2)\n",
        "test_prediction(22, W1, b1, W2, b2)\n",
        "test_prediction(3, W1, b1, W2, b2)\n",
        "test_prediction(52, W1, b1, W2, b2)"
      ],
      "metadata": {
        "colab": {
          "base_uri": "https://localhost:8080/",
          "height": 1000
        },
        "id": "ijDCVFu8BoTA",
        "outputId": "bc6ec43e-8dd5-4384-8609-4350a985f49e"
      },
      "execution_count": 17,
      "outputs": [
        {
          "output_type": "stream",
          "name": "stdout",
          "text": [
            "\n",
            "Prediction:  [8]\n",
            "\n",
            "Label:  8\n"
          ]
        },
        {
          "output_type": "display_data",
          "data": {
            "text/plain": [
              "<Figure size 640x480 with 1 Axes>"
            ],
            "image/png": "[encoded data removed]"
          },
          "metadata": {}
        },
        {
          "output_type": "stream",
          "name": "stdout",
          "text": [
            "\n",
            "Prediction:  [1]\n",
            "\n",
            "Label:  1\n"
          ]
        },
        {
          "output_type": "display_data",
          "data": {
            "text/plain": [
              "<Figure size 640x480 with 1 Axes>"
            ],
            "image/png": "[encoded data removed]"
          },
          "metadata": {}
        },
        {
          "output_type": "stream",
          "name": "stdout",
          "text": [
            "\n",
            "Prediction:  [8]\n",
            "\n",
            "Label:  3\n"
          ]
        },
        {
          "output_type": "display_data",
          "data": {
            "text/plain": [
              "<Figure size 640x480 with 1 Axes>"
            ],
            "image/png": "[encoded data removed]"
          },
          "metadata": {}
        },
        {
          "output_type": "stream",
          "name": "stdout",
          "text": [
            "\n",
            "Prediction:  [2]\n",
            "\n",
            "Label:  2\n"
          ]
        },
        {
          "output_type": "display_data",
          "data": {
            "text/plain": [
              "<Figure size 640x480 with 1 Axes>"
            ],
            "image/png": "[encoded data removed]"
          },
          "metadata": {}
        }
      ]
    },
    {
      "cell_type": "code",
      "source": [
        "dev_predictions = make_predictions(X_dev, W1, b1, W2, b2)\n",
        "get_accuracy(dev_predictions, Y_dev)"
      ],
      "metadata": {
        "colab": {
          "base_uri": "https://localhost:8080/"
        },
        "id": "YVXIwm-PC397",
        "outputId": "a6bf3847-d003-4be6-9680-b7eb0abe9d80"
      },
      "execution_count": 15,
      "outputs": [
        {
          "output_type": "stream",
          "name": "stdout",
          "text": [
            "[6 1 9 8 8 3 1 2 8 8 7 8 9 3 9 9 2 0 0 1 4 9 0 0 0 9 4 9 5 5 7 3 4 2 5 2 3\n",
            " 9 9 6 1 0 0 4 3 4 2 0 0 0 8 0 9 8 5 7 9 8 3 7 4 5 6 8 7 7 5 6 7 3 2 0 2 8\n",
            " 1 4 4 7 3 5 0 6 5 5 6 9 0 6 6 1 0 4 2 7 1 5 6 1 1 6 5 2 0 9 7 1 1 5 3 3 8\n",
            " 3 4 5 6 7 2 4 3 4 4 0 7 3 2 0 8 1 0 6 3 4 1 8 7 0 6 4 4 2 0 1 0 7 7 9 3 2\n",
            " 1 2 6 6 7 2 1 8 8 1 0 8 1 9 8 8 1 2 9 5 0 4 9 5 9 6 9 7 5 8 6 8 6 4 2 7 4\n",
            " 2 8 9 4 5 3 4 7 3 1 9 9 1 9 7 2 3 1 9 4 9 2 8 2 4 3 6 4 0 3 9 0 9 0 2 0 9\n",
            " 6 4 5 4 9 1 6 2 5 7 0 7 2 1 0 9 8 4 0 0 9 6 5 2 6 2 7 9 2 0 5 5 1 7 0 9 1\n",
            " 4 2 0 6 6 9 8 2 9 1 6 8 1 7 1 2 4 7 4 0 2 0 2 7 3 3 0 5 7 7 0 2 1 1 7 4 8\n",
            " 8 9 6 9 1 0 3 0 5 5 9 7 6 9 4 2 2 0 3 7 2 1 6 6 3 1 1 1 8 1 6 1 2 7 2 5 1\n",
            " 9 9 3 8 7 1 9 7 1 4 5 9 7 3 5 7 4 8 9 3 6 1 0 6 1 4 4 3 8 6 9 2 7 4 9 9 8\n",
            " 7 2 8 5 3 6 2 9 1 0 3 1 4 2 7 5 8 2 8 4 9 9 3 6 5 7 2 4 4 7 8 6 6 7 8 1 6\n",
            " 5 8 9 3 3 2 6 9 3 6 3 7 9 9 7 8 5 9 2 4 3 5 0 0 3 9 4 9 3 4 5 3 1 6 6 8 2\n",
            " 7 9 5 3 6 2 3 6 3 1 1 6 3 7 8 5 3 6 3 5 0 7 9 9 7 7 5 7 4 1 6 0 8 8 8 1 6\n",
            " 6 6 9 0 9 6 2 8 3 1 2 7 8 8 1 3 6 1 3 1 6 2 4 4 8 4 8 4 8 4 9 4 0 5 5 5 9\n",
            " 2 9 1 7 5 9 5 2 0 0 1 9 1 3 1 6 3 8 2 2 9 5 9 0 7 0 8 3 7 3 7 1 9 6 3 3 6\n",
            " 0 4 9 8 9 2 2 8 6 5 5 2 8 0 9 5 7 5 7 6 1 7 7 7 8 5 1 3 5 2 8 2 6 4 4 2 3\n",
            " 5 0 3 2 3 0 8 9 2 7 0 0 2 3 3 3 1 7 0 9 2 2 0 3 8 9 1 9 3 6 1 1 7 3 8 1 2\n",
            " 1 8 3 1 4 9 9 2 1 7 9 4 4 3 2 3 5 9 3 1 8 9 1 6 3 4 3 4 6 4 5 5 0 8 8 4 0\n",
            " 7 9 1 5 7 1 5 1 9 6 8 3 9 1 3 4 8 7 8 7 1 8 4 5 2 6 0 3 8 5 1 8 5 6 4 8 8\n",
            " 0 9 9 1 4 7 0 3 9 0 0 3 8 5 7 7 6 4 6 9 4 0 0 9 5 9 2 0 2 8 3 3 2 9 2 8 4\n",
            " 9 3 1 6 5 4 7 8 0 3 3 3 0 7 3 4 3 3 3 3 2 5 6 0 1 4 5 7 9 6 0 3 8 8 6 6 3\n",
            " 1 9 5 3 2 4 7 9 7 5 1 8 7 7 0 7 6 8 8 3 7 4 5 0 4 6 4 3 8 8 8 5 5 6 6 0 5\n",
            " 4 6 7 9 0 6 6 0 8 5 2 0 6 8 0 3 6 9 1 1 8 0 7 4 4 1 0 2 4 0 1 3 8 9 1 9 3\n",
            " 0 1 2 8 3 6 9 7 0 4 8 7 9 8 7 6 7 1 4 4 8 8 0 5 8 8 6 1 7 6 7 3 3 4 4 4 0\n",
            " 2 8 4 1 3 9 5 9 1 4 3 3 3 7 7 3 4 7 9 3 1 0 6 5 4 1 8 8 6 6 6 0 8 8 9 1 8\n",
            " 7 1 6 5 9 1 8 8 4 0 9 3 0 4 9 1 7 3 6 4 5 7 0 0 8 1 1 9 9 5 8 8 6 0 4 6 5\n",
            " 5 0 4 8 2 3 5 3 2 9 7 9 0 6 4 3 9 3 3 4 2 7 6 9 6 8 0 9 0 7 9 5 6 1 3 1 8\n",
            " 8] [8 1 9 8 8 3 1 2 6 3 7 2 9 3 9 9 7 8 0 5 4 2 0 0 0 9 4 8 5 5 7 3 4 2 3 2 3\n",
            " 9 5 6 7 0 0 4 3 4 2 0 9 0 8 0 9 8 5 7 9 8 3 7 4 8 6 8 7 9 5 6 7 3 2 0 2 8\n",
            " 1 9 4 7 3 8 0 6 5 3 6 4 6 6 6 8 0 4 2 7 1 5 6 1 3 6 5 2 0 9 7 1 1 8 3 8 8\n",
            " 3 4 5 7 7 2 4 0 5 4 0 7 3 3 0 8 1 0 6 3 4 1 5 7 0 6 4 4 2 0 1 0 7 4 7 5 7\n",
            " 1 2 6 6 7 2 1 8 8 1 0 8 1 9 9 8 8 2 9 8 0 8 9 5 9 6 9 7 5 9 6 5 6 4 2 7 4\n",
            " 2 8 9 4 5 3 4 7 3 1 9 7 1 2 7 2 3 1 9 4 9 2 4 2 4 3 3 4 0 3 4 0 9 0 2 0 4\n",
            " 6 4 5 4 9 1 8 2 5 7 0 7 2 1 0 9 8 8 0 0 9 6 5 2 6 2 7 9 2 0 5 5 8 9 0 9 1\n",
            " 4 2 0 6 6 9 8 2 9 1 6 8 1 7 1 2 4 7 4 0 2 0 2 7 3 3 7 5 7 7 0 2 1 1 7 0 8\n",
            " 6 9 6 9 1 8 3 0 8 0 9 7 6 9 4 2 2 0 3 7 2 1 4 6 3 1 1 1 3 1 6 1 2 7 2 5 1\n",
            " 7 9 3 8 7 1 5 7 1 4 5 9 7 3 5 7 4 3 9 5 6 1 0 6 1 4 4 3 7 6 9 2 3 4 8 7 8\n",
            " 7 2 8 5 3 6 2 9 1 0 3 1 4 3 7 5 8 2 8 9 8 4 3 6 5 7 3 4 9 7 8 6 6 9 8 1 6\n",
            " 5 8 7 3 5 2 6 9 3 6 3 7 9 9 7 8 5 9 2 4 3 1 0 0 3 9 9 4 3 4 5 3 1 6 8 8 3\n",
            " 7 9 5 3 6 2 3 2 3 5 1 4 3 7 8 5 3 6 3 5 0 7 9 9 7 5 5 7 4 1 6 0 1 8 2 1 4\n",
            " 6 6 9 2 7 6 2 7 5 1 0 7 8 8 1 8 4 1 3 1 6 2 4 4 8 4 8 4 8 4 9 9 5 8 5 5 9\n",
            " 2 9 1 7 5 9 5 2 0 4 1 9 1 0 2 8 3 5 2 2 9 5 9 5 3 0 8 8 7 3 1 1 9 6 3 3 6\n",
            " 0 4 9 8 9 2 2 8 8 5 5 2 8 0 9 5 7 5 7 6 1 7 9 7 8 5 1 3 5 2 8 2 6 4 4 3 3\n",
            " 5 0 3 2 3 0 6 8 2 7 0 0 7 3 3 3 1 7 5 7 2 2 0 3 5 9 1 9 3 6 1 9 7 3 8 1 3\n",
            " 1 8 3 1 4 9 9 2 1 4 9 6 8 3 2 3 5 9 3 1 1 9 1 8 3 4 3 4 4 4 5 5 8 8 8 4 0\n",
            " 7 9 1 5 7 1 5 1 9 6 5 3 9 1 3 4 8 7 3 7 1 8 4 6 2 6 4 3 5 5 7 8 5 6 4 8 8\n",
            " 0 9 9 1 4 7 0 9 9 0 7 3 8 5 7 5 6 4 6 9 4 0 0 4 5 9 7 0 2 1 5 3 2 8 2 8 4\n",
            " 9 3 1 6 3 4 7 5 0 3 3 2 0 7 5 9 3 2 8 3 2 5 6 0 1 4 5 7 3 6 0 3 5 8 6 6 3\n",
            " 1 9 5 3 2 4 7 4 7 5 1 8 9 7 0 7 6 8 8 3 9 4 8 0 4 6 4 3 7 8 8 3 5 6 6 0 5\n",
            " 4 6 7 9 6 6 6 0 8 5 2 0 6 8 0 3 6 9 1 8 8 0 7 4 4 1 0 2 4 0 1 3 3 9 1 9 3\n",
            " 8 1 2 8 3 6 9 7 0 9 8 7 9 8 7 6 7 1 4 4 5 8 0 6 8 8 6 1 7 6 7 3 3 4 4 4 0\n",
            " 5 0 6 1 3 4 5 4 1 5 3 3 3 7 7 3 4 7 9 3 1 0 6 5 4 1 8 8 6 6 6 0 8 8 4 1 8\n",
            " 7 8 6 5 9 1 8 8 9 0 4 5 0 4 8 1 7 3 6 4 5 7 0 0 8 1 1 9 4 5 8 8 6 0 4 6 5\n",
            " 8 0 4 8 2 3 6 3 3 9 7 4 0 6 4 3 9 3 3 4 2 7 6 9 6 3 0 9 0 7 9 5 6 1 3 1 8\n",
            " 8]\n"
          ]
        },
        {
          "output_type": "execute_result",
          "data": {
            "text/plain": [
              "0.823"
            ]
          },
          "metadata": {},
          "execution_count": 15
        }
      ]
    }
  ]
}